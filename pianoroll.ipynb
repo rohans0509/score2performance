{
 "cells": [
  {
   "cell_type": "code",
   "execution_count": 6,
   "metadata": {},
   "outputs": [
    {
     "name": "stdout",
     "output_type": "stream",
     "text": [
      "(128, 5399)\n",
      "(128, 5399)\n"
     ]
    }
   ],
   "source": [
    "import pretty_midi as pm\n",
    "midi_path=\"/Users/rohansharma/Desktop/Projects/Intern/score2performance/Store/Score2Melody/Bach/Fugue/bwv_846/Shi05M_score.mid\"\n",
    "\n",
    "midi_data = pm.PrettyMIDI(midi_path)\n",
    "pr=midi_data.get_piano_roll(fs=100)\n",
    "melody_pr=midi_data.instruments[0].get_piano_roll(fs=100)\n",
    "\n",
    "# set non-zero values to 1\n",
    "pr[pr>0]=80\n",
    "melody_pr[melody_pr>0]=47\n",
    "\n",
    "# print shapes\n",
    "print(pr.shape)\n",
    "print(melody_pr.shape)"
   ]
  }
 ],
 "metadata": {
  "kernelspec": {
   "display_name": "Python 3.7.6 ('base')",
   "language": "python",
   "name": "python3"
  },
  "language_info": {
   "codemirror_mode": {
    "name": "ipython",
    "version": 3
   },
   "file_extension": ".py",
   "mimetype": "text/x-python",
   "name": "python",
   "nbconvert_exporter": "python",
   "pygments_lexer": "ipython3",
   "version": "3.7.6"
  },
  "orig_nbformat": 4,
  "vscode": {
   "interpreter": {
    "hash": "40d3a090f54c6569ab1632332b64b2c03c39dcf918b08424e98f38b5ae0af88f"
   }
  }
 },
 "nbformat": 4,
 "nbformat_minor": 2
}
