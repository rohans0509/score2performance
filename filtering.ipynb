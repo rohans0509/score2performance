{
 "cells": [
  {
   "cell_type": "markdown",
   "metadata": {},
   "source": [
    "# Filtering Melody Notes "
   ]
  },
  {
   "cell_type": "markdown",
   "metadata": {},
   "source": [
    "### Helper Functions"
   ]
  },
  {
   "cell_type": "code",
   "execution_count": 1,
   "metadata": {},
   "outputs": [],
   "source": [
    "from random import randrange\n",
    "import numpy as np\n",
    "from miditoolkit.midi import parser as mid_parser  \n",
    "from miditoolkit.midi import containers as ct\n",
    "import miditoolkit as mtk\n",
    "\n",
    "\n",
    "def filterMelodyNotes(notes):\n",
    "    \"\"\"\n",
    "    Filter out melody notes.\n",
    "    Returns a tuple of (normal notes,ghost notes)\n",
    "    \"\"\"\n",
    "    normal_notes=[]\n",
    "    ghost_notes=[]\n",
    "    for i,note in enumerate(notes):\n",
    "        context=notes[i-10:i+10]\n",
    "        if isMelodyNote(note,context):\n",
    "            ghost_notes.append(note)\n",
    "        else:\n",
    "            normal_notes.append(note)\n",
    "    return (normal_notes,ghost_notes)\n",
    "\n",
    "def isMelodyNote(note,context_notes,heuristic=\"velocity\",params=None):\n",
    "    \"\"\"\n",
    "    Check if a note is a ghost note.\n",
    "    \"\"\"\n",
    "    heuristic=heuristics[heuristic]\n",
    "    return heuristic(note,context_notes,params)\n",
    "\n",
    "def velocityThreshold(test_note,context_notes,params):\n",
    "    ''' \n",
    "    Detect outliers in velocity.\n",
    "    '''\n",
    "    method=params[\"method\"] if params is not None else 1\n",
    "    all_velocities=[note.velocity for note in context_notes]+[test_note.velocity]\n",
    "    outliers=getOutliers(all_velocities,method)\n",
    "\n",
    "    # check if test_note is an outlier\n",
    "    if test_note.velocity in outliers:\n",
    "        return True\n",
    "\n",
    "def getOutliers(data,method=1):\n",
    "    if method==1:\n",
    "        outliers=[]\n",
    "        \n",
    "        z_threshold=2\n",
    "        median = np.median(data)\n",
    "        std =np.std(data,)\n",
    "        \n",
    "        \n",
    "        for y in data:\n",
    "            z_score= (y - median)/std\n",
    "            if z_score>z_threshold:\n",
    "                outliers.append(y)\n",
    "    elif method==2:\n",
    "        data=sorted(data)\n",
    "        q1, q3= np.percentile(data,[25,75])\n",
    "        iqr = q3 - q1\n",
    "        lower_bound = q1 -(1.5 * iqr) \n",
    "        outliers=[]\n",
    "        for y in data:\n",
    "            if y<lower_bound:\n",
    "                outliers.append(y)\n",
    "    return outliers\n",
    "\n",
    "def split2midi(normal_notes,melody_notes):\n",
    "    \"\"\"\n",
    "    Convert a list of notes to a midi file where first instrument is normal notes and second instrument is ghost notes.\n",
    "    \"\"\"\n",
    "    normal_notes = [note for note in normal_notes if note.velocity != 0]\n",
    "    melody_notes = [note for note in melody_notes if note.velocity != 0]\n",
    "    mido_obj = mid_parser.MidiFile()\n",
    "    beat_resol = mido_obj.ticks_per_beat\n",
    "\n",
    "    # create instruments\n",
    "    melody_instrument = mid_parser.Instrument(program=0)\n",
    "    melody_instrument.name= \"Melody Notes\"\n",
    "\n",
    "    normal_instrument = mid_parser.Instrument(program=1)\n",
    "    normal_instrument.name= \"Normal Notes\"\n",
    "    \n",
    "\n",
    "    mido_obj.instruments.append(melody_instrument)\n",
    "    mido_obj.instruments.append(normal_instrument)\n",
    "    \n",
    "    \n",
    "    melody_instrument.notes = melody_notes\n",
    "    normal_instrument.notes = normal_notes\n",
    "    \n",
    "    return mido_obj\n",
    "\n",
    "def extractMelody(midi_file,output_filename=\"melody.mid\"):\n",
    "    \"\"\"\n",
    "    Extract melody from midi file.\n",
    "    \"\"\"\n",
    "    midi_file=mtk.MidiFile(midi_file)\n",
    "    notes=[]\n",
    "    for instrument in midi_file.instruments:\n",
    "        notes.extend(instrument.notes)\n",
    "    notes=sorted(notes,key=lambda x:x.start)\n",
    "    normal_notes,melody_notes=filterMelodyNotes(notes)\n",
    "    out_midi=split2midi(normal_notes,melody_notes)\n",
    "    out_midi.dump(output_filename)\n",
    "\n",
    "    \n",
    "heuristics={\n",
    "    \"velocity\":velocityThreshold,\n",
    "}"
   ]
  },
  {
   "cell_type": "markdown",
   "metadata": {},
   "source": [
    "### Read annotations"
   ]
  },
  {
   "cell_type": "code",
   "execution_count": 2,
   "metadata": {},
   "outputs": [],
   "source": [
    "import pandas as pd\n",
    "from utils import read_annotations\n",
    "\n",
    "ASAP=\"Sample_Data/asap-dataset\"\n",
    "annotations_path=f\"{ASAP}/asap_annotations.json\"\n",
    "\n",
    "annotations=read_annotations(annotations_path,process=False)\n",
    "\n",
    "# unique score_filename values\n",
    "score_filenames = annotations['score_filename'].unique()\n",
    "\n",
    "performance_filenames = annotations['performance_filename'].unique()"
   ]
  },
  {
   "cell_type": "markdown",
   "metadata": {},
   "source": [
    "### Extract melody for composers"
   ]
  },
  {
   "cell_type": "code",
   "execution_count": 3,
   "metadata": {},
   "outputs": [
    {
     "name": "stderr",
     "output_type": "stream",
     "text": [
      "  0%|          | 0/48 [00:00<?, ?it/s]/opt/anaconda3/lib/python3.7/site-packages/ipykernel_launcher.py:52: RuntimeWarning: invalid value encountered in double_scalars\n",
      "100%|██████████| 48/48 [00:03<00:00, 14.29it/s]\n"
     ]
    }
   ],
   "source": [
    "from tqdm import tqdm\n",
    "import miditoolkit as mtk\n",
    "import os\n",
    "\n",
    "samples=2\n",
    "output_folder=\"Store/Filter\"\n",
    "composers=[\"Bach\",\"Chopin\",\"Mozart\"]\n",
    "\n",
    "ASAP_DIR=\"Sample_Data/asap-dataset\"\n",
    "\n",
    "if not os.path.exists(output_folder):\n",
    "    os.makedirs(output_folder)\n",
    "\n",
    "counts=[0 for i in range(len(composers))]\n",
    "\n",
    "for filename in tqdm(performance_filenames):\n",
    "    composer=filename.split(\"/\")[0]\n",
    "    if composer in composers and counts[composers.index(composer)]<samples:\n",
    "        counts[composers.index(composer)]+=1\n",
    "        full_filename=f\"{ASAP_DIR}/{filename}\"\n",
    "        \n",
    "        output_filename=f\"{composer}_{filename.split('/')[-1]}\"\n",
    "        output_filename=f\"{output_folder}/{output_filename}\"\n",
    "\n",
    "        extractMelody(full_filename,output_filename)"
   ]
  }
 ],
 "metadata": {
  "kernelspec": {
   "display_name": "Python 3.7.6 ('base')",
   "language": "python",
   "name": "python3"
  },
  "language_info": {
   "codemirror_mode": {
    "name": "ipython",
    "version": 3
   },
   "file_extension": ".py",
   "mimetype": "text/x-python",
   "name": "python",
   "nbconvert_exporter": "python",
   "pygments_lexer": "ipython3",
   "version": "3.7.6"
  },
  "orig_nbformat": 4,
  "vscode": {
   "interpreter": {
    "hash": "40d3a090f54c6569ab1632332b64b2c03c39dcf918b08424e98f38b5ae0af88f"
   }
  }
 },
 "nbformat": 4,
 "nbformat_minor": 2
}
