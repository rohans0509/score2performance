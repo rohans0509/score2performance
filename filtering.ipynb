{
 "cells": [
  {
   "cell_type": "code",
   "execution_count": 1,
   "metadata": {},
   "outputs": [],
   "source": [
    "from random import randrange\n",
    "import numpy as np\n",
    "from miditoolkit.midi import parser as mid_parser  \n",
    "from miditoolkit.midi import containers as ct\n",
    "\n",
    "\n",
    "\n",
    "def filterMelodyNotes(notes):\n",
    "    \"\"\"\n",
    "    Filter out melody notes.\n",
    "    Returns a tuple of (normal notes,ghost notes)\n",
    "    \"\"\"\n",
    "    normal_notes=[]\n",
    "    ghost_notes=[]\n",
    "    for i,note in enumerate(notes):\n",
    "        context=notes[i-10:i+10]\n",
    "        if isMelodyNote(note,context):\n",
    "            ghost_notes.append(note)\n",
    "        else:\n",
    "            normal_notes.append(note)\n",
    "    return (normal_notes,ghost_notes)\n",
    "\n",
    "def isMelodyNote(note,context_notes,heuristic=\"velocity\",params=None):\n",
    "    \"\"\"\n",
    "    Check if a note is a ghost note.\n",
    "    \"\"\"\n",
    "    heuristic=heuristics[heuristic]\n",
    "    return heuristic(note,context_notes,params)\n",
    "\n",
    "def velocityThreshold(test_note,context_notes,params):\n",
    "    ''' \n",
    "    Detect outliers in velocity.\n",
    "    '''\n",
    "    method=params[\"method\"] if params is not None else 1\n",
    "    all_velocities=[note.velocity for note in context_notes]+[test_note.velocity]\n",
    "    outliers=getOutliers(all_velocities,method)\n",
    "\n",
    "    # check if test_note is an outlier\n",
    "    if test_note.velocity in outliers:\n",
    "        return True\n",
    "\n",
    "def getOutliers(data,method=1):\n",
    "    if method==1:\n",
    "        outliers=[]\n",
    "        \n",
    "        z_threshold=2\n",
    "        median = np.median(data)\n",
    "        std =np.std(data,)\n",
    "        \n",
    "        \n",
    "        for y in data:\n",
    "            z_score= (y - median)/std\n",
    "            if z_score>z_threshold:\n",
    "                outliers.append(y)\n",
    "    elif method==2:\n",
    "        data=sorted(data)\n",
    "        q1, q3= np.percentile(data,[25,75])\n",
    "        iqr = q3 - q1\n",
    "        lower_bound = q1 -(1.5 * iqr) \n",
    "        outliers=[]\n",
    "        for y in data:\n",
    "            if y<lower_bound:\n",
    "                outliers.append(y)\n",
    "    return outliers\n",
    "\n",
    "def split2midi(normal_notes,ghost_notes):\n",
    "    \"\"\"\n",
    "    Convert a list of notes to a midi file where first instrument is normal notes and second instrument is ghost notes.\n",
    "    \"\"\"\n",
    "    normal_notes = [note for note in normal_notes if note.velocity != 0]\n",
    "    ghost_notes = [note for note in ghost_notes if note.velocity != 0]\n",
    "    mido_obj = mid_parser.MidiFile()\n",
    "    beat_resol = mido_obj.ticks_per_beat\n",
    "\n",
    "    # create an  instrument\n",
    "    normal_instrument = mid_parser.Instrument(program=0)\n",
    "    ghost_instrument = mid_parser.Instrument(program=1)\n",
    "    mido_obj.instruments.append(normal_instrument)\n",
    "    mido_obj.instruments.append(ghost_instrument)\n",
    "    normal_instrument.notes = normal_notes\n",
    "    ghost_instrument.notes = ghost_notes\n",
    "    \n",
    "    return mido_obj\n",
    "\n",
    "\n",
    "\n",
    "heuristics={\n",
    "    \"velocity\":velocityThreshold,\n",
    "}"
   ]
  },
  {
   "cell_type": "code",
   "execution_count": 2,
   "metadata": {},
   "outputs": [],
   "source": [
    "import pandas as pd\n",
    "\n",
    "dataset_dir = \"Datasets/asap-dataset\"\n",
    "# read in json file as pandas dataframe\n",
    "annotations=pd.read_json(f\"{dataset_dir}/asap_annotations.json\").transpose()\n",
    "# add column for score_filename to annotations that converts row name to score_filename\n",
    "annotations['score_filename'] = annotations.index.map(lambda x: f\"{'/'.join(x.split('/')[:-1])}/midi_score.mid\")\n",
    "# rename index to performance_filename\n",
    "annotations.index=annotations.index.rename('performance_filename')\n",
    "annotations.reset_index(inplace=True)\n",
    "\n",
    "annotations.head(2)\n",
    "\n",
    "# only keep rows of annotations where score_and_performance_aligned is True\t\n",
    "annotations = annotations[annotations['score_and_performance_aligned'] == True]\n",
    "annotations.head(2)\n",
    "\n",
    "# unique score_filename values\n",
    "score_filenames = annotations['score_filename'].unique()\n",
    "\n",
    "performance_filenames = annotations['performance_filename'].unique()"
   ]
  },
  {
   "cell_type": "code",
   "execution_count": 3,
   "metadata": {},
   "outputs": [
    {
     "name": "stderr",
     "output_type": "stream",
     "text": [
      "  0%|          | 0/1037 [00:00<?, ?it/s]/opt/anaconda3/lib/python3.7/site-packages/ipykernel_launcher.py:52: RuntimeWarning: invalid value encountered in double_scalars\n",
      "  0%|          | 1/1037 [00:00<02:41,  6.40it/s]"
     ]
    },
    {
     "name": "stdout",
     "output_type": "stream",
     "text": [
      "Bach/Fugue/bwv_846/Shi05M.mid has 3 ghost notes\n",
      "Bach/Fugue/bwv_848/Denisova06M.mid has 23 ghost notes\n"
     ]
    },
    {
     "name": "stderr",
     "output_type": "stream",
     "text": [
      " 43%|████▎     | 441/1037 [00:01<00:01, 374.19it/s]"
     ]
    },
    {
     "name": "stdout",
     "output_type": "stream",
     "text": [
      "Chopin/Ballades/1/Ali01.mid has 48 ghost notes\n"
     ]
    },
    {
     "name": "stderr",
     "output_type": "stream",
     "text": [
      " 45%|████▍     | 463/1037 [00:02<00:03, 190.69it/s]"
     ]
    },
    {
     "name": "stdout",
     "output_type": "stream",
     "text": [
      "Chopin/Ballades/1/BuiJL04M.mid has 43 ghost notes\n"
     ]
    },
    {
     "name": "stderr",
     "output_type": "stream",
     "text": [
      " 86%|████████▌ | 892/1037 [00:02<00:00, 339.54it/s]"
     ]
    },
    {
     "name": "stdout",
     "output_type": "stream",
     "text": [
      "Mozart/Fantasie_475/Huangci05M.mid has 64 ghost notes\n"
     ]
    },
    {
     "name": "stderr",
     "output_type": "stream",
     "text": [
      "100%|██████████| 1037/1037 [00:03<00:00, 297.68it/s]"
     ]
    },
    {
     "name": "stdout",
     "output_type": "stream",
     "text": [
      "Mozart/Piano_Sonatas/11-3/Stahievitch02.mid has 27 ghost notes\n"
     ]
    },
    {
     "name": "stderr",
     "output_type": "stream",
     "text": [
      "\n"
     ]
    }
   ],
   "source": [
    " \n",
    "\n",
    "total=2\n",
    "composers=[\"Bach\",\"Chopin\",\"Mozart\"]\n",
    "counts=[0 for i in range(len(composers))]\n",
    "\n",
    "for filename in tqdm(performance_filenames):\n",
    "    composer=filename.split(\"/\")[0]\n",
    "    if composer in composers and counts[composers.index(composer)]<total:\n",
    "        counts[composers.index(composer)]+=1\n",
    "        full_filename=f\"Datasets/asap-dataset/{filename}\"\n",
    "        midi_file=mtk.MidiFile(full_filename)\n",
    "        notes=[]\n",
    "        for instrument in midi_file.instruments:\n",
    "            notes.extend(instrument.notes)\n",
    "        notes=sorted(notes,key=lambda x:x.start)\n",
    "        normal_notes,ghost_notes=filterMelodyNotes(notes)\n",
    "        print(f\"{filename} has {len(ghost_notes)} ghost notes\")\n",
    "        out_midi=split2midi(normal_notes,ghost_notes)\n",
    "        \n",
    "        output_filename=f\"{composer}_{filename.split('/')[-1]}\"\n",
    "        out_midi.dump(f\"Store/Filter/{output_filename}\")"
   ]
  }
 ],
 "metadata": {
  "kernelspec": {
   "display_name": "Python 3.7.6 ('base')",
   "language": "python",
   "name": "python3"
  },
  "language_info": {
   "codemirror_mode": {
    "name": "ipython",
    "version": 3
   },
   "file_extension": ".py",
   "mimetype": "text/x-python",
   "name": "python",
   "nbconvert_exporter": "python",
   "pygments_lexer": "ipython3",
   "version": "3.7.6"
  },
  "orig_nbformat": 4,
  "vscode": {
   "interpreter": {
    "hash": "40d3a090f54c6569ab1632332b64b2c03c39dcf918b08424e98f38b5ae0af88f"
   }
  }
 },
 "nbformat": 4,
 "nbformat_minor": 2
}
