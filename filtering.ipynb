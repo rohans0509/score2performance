{
 "cells": [
  {
   "cell_type": "markdown",
   "metadata": {},
   "source": [
    "# Filtering Melody Notes "
   ]
  },
  {
   "cell_type": "markdown",
   "metadata": {},
   "source": [
    "### Helper Functions"
   ]
  },
  {
   "cell_type": "code",
   "execution_count": 3,
   "metadata": {},
   "outputs": [],
   "source": [
    "from random import randrange\n",
    "import numpy as np\n",
    "from miditoolkit.midi import parser as mid_parser  \n",
    "from miditoolkit.midi import containers as ct\n",
    "import miditoolkit as mtk\n",
    "\n",
    "def filterMelodyNotes(notes,method=2,threshold=2):\n",
    "    \"\"\"\n",
    "    Filter out melody notes.\n",
    "    Returns a tuple of (normal notes,melody notes)\n",
    "    \"\"\"\n",
    "    # sort notes by start time and makes their lengths 1 tick\n",
    "    notes=sorted(notes,key=lambda x:x.start)\n",
    "    for note in notes:\n",
    "        note.end=note.start+1\n",
    "    normal_notes=[]\n",
    "    melody_notes=[]\n",
    "    if method==1:\n",
    "        window_length_time=4\n",
    "\n",
    "        # group notes by which window they belong to\n",
    "\n",
    "        song_start=notes[0].start\n",
    "        song_end=notes[-1].end\n",
    "\n",
    "        num_windows=int((song_end-song_start)/window_length_time)\n",
    "\n",
    "        windows=[[] for i in range(num_windows)]\n",
    "\n",
    "        for note in notes:\n",
    "            window_index=int((note.start-song_start)/window_length_time)\n",
    "            windows[window_index].append(note)\n",
    "\n",
    "        # filter melody notes\n",
    "        for window_index,window in enumerate(windows):\n",
    "            for note in window:\n",
    "                context_notes=notesBetween(note.start-window_length_time,note.start,notes)\n",
    "                if isMelodyNote(note,context_notes):\n",
    "                    melody_notes.append(note)\n",
    "                else:\n",
    "                    normal_notes.append(note)\n",
    "\n",
    "    if method==2:\n",
    "        # for simultaneous notes keep the one with highest velocity\n",
    "        for i,note in enumerate(notes):\n",
    "            simultaneous_notes=notesBetween(note.start-threshold,note.end+threshold,notes)\n",
    "            if len(simultaneous_notes)>1:\n",
    "                melody_note=max(simultaneous_notes,key=lambda x:x.velocity)\n",
    "                if note.velocity>=melody_note.velocity:\n",
    "                    melody_notes.append(note)\n",
    "                else:\n",
    "                    normal_notes.append(note)\n",
    "            else:\n",
    "                melody_notes.append(note)\n",
    "\n",
    "    return normal_notes,melody_notes\n",
    "\n",
    "\n",
    "def notesBetween(start_time,end_time,notes):\n",
    "    \"\"\"\n",
    "    Get notes between start_time and end_time.\n",
    "    \"\"\"\n",
    "    return [note for note in notes if (note.start>=start_time and note.end<=end_time) or (note.start<=start_time and note.end>=start_time)]\n",
    "\n",
    "def isMelodyNote(note,context_notes,heuristic=\"velocity\",params=None):\n",
    "    \"\"\"\n",
    "    Check if a note is a ghost note.\n",
    "    \"\"\"\n",
    "    heuristic=heuristics[heuristic]\n",
    "    return heuristic(note,context_notes,params)\n",
    "\n",
    "def velocityThreshold(test_note,context_notes,params):\n",
    "    ''' \n",
    "    Detect outliers in velocity.\n",
    "    '''\n",
    "    method=params[\"method\"] if params is not None else 1\n",
    "    all_velocities=[note.velocity for note in context_notes]+[test_note.velocity]\n",
    "    outliers=getOutliers(all_velocities,method)\n",
    "\n",
    "    # check if test_note is an outlier\n",
    "    if test_note.velocity in outliers:\n",
    "        return True\n",
    "\n",
    "def getOutliers(data,method=1):\n",
    "    if method==1:\n",
    "        outliers=[]\n",
    "        \n",
    "        z_threshold=1\n",
    "        median = np.median(data)\n",
    "        std =np.std(data,)\n",
    "        \n",
    "        \n",
    "        for y in data:\n",
    "            z_score= (y - median)/std\n",
    "            if z_score>z_threshold:\n",
    "                outliers.append(y)\n",
    "    elif method==2:\n",
    "        data=sorted(data)\n",
    "        q1, q3= np.percentile(data,[25,75])\n",
    "        iqr = q3 - q1\n",
    "        lower_bound = q1 -(1.5 * iqr) \n",
    "        outliers=[]\n",
    "        for y in data:\n",
    "            if y<lower_bound:\n",
    "                outliers.append(y)\n",
    "    return outliers\n",
    "\n",
    "def split2midi(normal_notes,melody_notes):\n",
    "    \"\"\"\n",
    "    Convert a list of notes to a midi file where first instrument is normal notes and second instrument is ghost notes.\n",
    "    \"\"\"\n",
    "    normal_notes = [note for note in normal_notes if note.velocity != 0]\n",
    "    melody_notes = [note for note in melody_notes if note.velocity != 0]\n",
    "    mido_obj = mid_parser.MidiFile()\n",
    "    beat_resol = mido_obj.ticks_per_beat\n",
    "\n",
    "    # create instruments\n",
    "    melody_instrument = mid_parser.Instrument(program=0)\n",
    "    melody_instrument.name= \"Melody Notes\"\n",
    "\n",
    "    normal_instrument = mid_parser.Instrument(program=1)\n",
    "    normal_instrument.name= \"Normal Notes\"\n",
    "    \n",
    "    mido_obj.instruments.append(melody_instrument)\n",
    "    mido_obj.instruments.append(normal_instrument)\n",
    "    \n",
    "    melody_instrument.notes = melody_notes\n",
    "    normal_instrument.notes = normal_notes\n",
    "    \n",
    "    return mido_obj\n",
    "\n",
    "def extractMelody(midi_file,output_filename=\"melody.mid\",instrument=-1,threshold=2):\n",
    "    \"\"\"\n",
    "    Extract melody from midi file.\n",
    "    \"\"\"\n",
    "    midi_file=mtk.MidiFile(midi_file)\n",
    "    notes=[]\n",
    "    if instrument==-1:\n",
    "        for i,track in enumerate(midi_file.instruments):\n",
    "            notes+=track.notes\n",
    "    else:\n",
    "        notes=midi_file.instruments[instrument].notes\n",
    "    notes=sorted(notes,key=lambda x:x.start)\n",
    "    normal_notes,melody_notes=filterMelodyNotes(notes,method=2,threshold=threshold)\n",
    "    out_midi=split2midi(normal_notes,melody_notes)\n",
    "    out_midi.dump(output_filename)\n",
    "\n",
    "    \n",
    "heuristics={\n",
    "    \"velocity\":velocityThreshold,\n",
    "}"
   ]
  },
  {
   "cell_type": "code",
   "execution_count": 5,
   "metadata": {},
   "outputs": [],
   "source": [
    "threshold=50\n",
    "extractMelody(midi_file,\"temp2.mid\",instrument=-1,threshold=threshold)"
   ]
  },
  {
   "cell_type": "markdown",
   "metadata": {},
   "source": [
    "### Read annotations"
   ]
  },
  {
   "cell_type": "code",
   "execution_count": null,
   "metadata": {},
   "outputs": [],
   "source": [
    "import pandas as pd\n",
    "from utils import read_annotations\n",
    "\n",
    "ASAP=\"Sample_Data/asap-dataset\"\n",
    "annotations_path=f\"{ASAP}/asap_annotations.json\"\n",
    "\n",
    "annotations=read_annotations(annotations_path,process=False)\n",
    "\n",
    "# unique score_filename values\n",
    "score_filenames = annotations['score_filename'].unique()\n",
    "\n",
    "performance_filenames = annotations['performance_filename'].unique()"
   ]
  },
  {
   "cell_type": "markdown",
   "metadata": {},
   "source": [
    "### Extract melody for composers"
   ]
  },
  {
   "cell_type": "code",
   "execution_count": null,
   "metadata": {},
   "outputs": [],
   "source": [
    "from tqdm import tqdm\n",
    "import miditoolkit as mtk\n",
    "import os\n",
    "\n",
    "samples=2\n",
    "output_folder=\"Store/Filter\"\n",
    "composers=[\"Bach\",\"Chopin\",\"Mozart\"]\n",
    "\n",
    "ASAP_DIR=\"Sample_Data/asap-dataset\"\n",
    "\n",
    "if not os.path.exists(output_folder):\n",
    "    os.makedirs(output_folder)\n",
    "\n",
    "counts=[0 for i in range(len(composers))]\n",
    "\n",
    "for filename in tqdm(performance_filenames):\n",
    "    composer=filename.split(\"/\")[0]\n",
    "    if composer in composers and counts[composers.index(composer)]<samples:\n",
    "        counts[composers.index(composer)]+=1\n",
    "        full_filename=f\"{ASAP_DIR}/{filename}\"\n",
    "        \n",
    "        output_filename=f\"{composer}_{filename.split('/')[-1]}\"\n",
    "        output_filename=f\"{output_folder}/{output_filename}\"\n",
    "\n",
    "        extractMelody(full_filename,output_filename)"
   ]
  },
  {
   "cell_type": "code",
   "execution_count": 8,
   "metadata": {},
   "outputs": [
    {
     "data": {
      "image/png": "[encoded data removed]",
      "text/plain": [
       "<Figure size 1440x288 with 1 Axes>"
      ]
     },
     "metadata": {
      "needs_background": "light"
     },
     "output_type": "display_data"
    },
    {
     "data": {
      "image/png": "[encoded data removed]",
      "text/plain": [
       "<Figure size 1440x288 with 1 Axes>"
      ]
     },
     "metadata": {
      "needs_background": "light"
     },
     "output_type": "display_data"
    }
   ],
   "source": [
    "from Trumpet import melodyextraction\n",
    "from importlib import reload\n",
    "reload(melodyextraction)\n",
    "mskyline=melodyextraction.mskyline\n",
    "\n",
    "import pretty_midi as pm\n",
    "midi_file=\"/Users/rohansharma/Desktop/Projects/Intern/score2performance/Datasets/asap-dataset/Chopin/Ballades/1/Ali01.mid\"\n",
    "\n",
    "\n",
    "midi_obj=pm.PrettyMIDI(midi_file)\n",
    "midi_piano_roll=midi_obj.get_piano_roll(fs=100)\n",
    "\n",
    "# plot\n",
    "import matplotlib.pyplot as plt\n",
    "import numpy as np\n",
    "plt.figure(figsize=(20, 4))\n",
    "plt.imshow(midi_piano_roll, aspect='auto', origin='lower')\n",
    "plt.show()\n",
    "\n",
    "midi_melody=mskyline(midi_file)\n",
    "\n",
    "midi_melody.dump(\"temp.mid\")\n",
    "\n",
    "melody_obj=pm.PrettyMIDI(\"temp.mid\")\n",
    "\n",
    "melody_piano_roll=melody_obj.get_piano_roll(fs=100)\n",
    "\n",
    "# plot\n",
    "import matplotlib.pyplot as plt\n",
    "import numpy as np\n",
    "plt.figure(figsize=(20, 4))\n",
    "plt.imshow(melody_piano_roll, aspect='auto', origin='lower')\n",
    "plt.show()"
   ]
  },
  {
   "cell_type": "code",
   "execution_count": 11,
   "metadata": {},
   "outputs": [
    {
     "name": "stdout",
     "output_type": "stream",
     "text": [
      "5080\n",
      "5743\n"
     ]
    }
   ],
   "source": [
    "import miditoolkit\n",
    "\n",
    "# count number of notes in both files\n",
    "midi_obj=miditoolkit.midi.parser.MidiFile(midi_file)\n",
    "melody_obj=miditoolkit.midi.parser.MidiFile(\"temp.mid\")\n",
    "\n",
    "midi_obj_notes=[instrument.notes for instrument in midi_obj.instruments]\n",
    "melody_obj_notes=[instrument.notes for instrument in melody_obj.instruments]\n",
    "\n",
    "midi_obj_notes=sum(midi_obj_notes,[])\n",
    "melody_obj_notes=sum(melody_obj_notes,[])\n",
    "\n",
    "print(len(midi_obj_notes))\n",
    "print(len(melody_obj_notes))"
   ]
  }
 ],
 "metadata": {
  "kernelspec": {
   "display_name": "Python 3.7.6 ('base')",
   "language": "python",
   "name": "python3"
  },
  "language_info": {
   "codemirror_mode": {
    "name": "ipython",
    "version": 3
   },
   "file_extension": ".py",
   "mimetype": "text/x-python",
   "name": "python",
   "nbconvert_exporter": "python",
   "pygments_lexer": "ipython3",
   "version": "3.7.6"
  },
  "orig_nbformat": 4,
  "vscode": {
   "interpreter": {
    "hash": "40d3a090f54c6569ab1632332b64b2c03c39dcf918b08424e98f38b5ae0af88f"
   }
  }
 },
 "nbformat": 4,
 "nbformat_minor": 2
}
