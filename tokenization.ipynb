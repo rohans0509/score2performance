{
 "cells": [
  {
   "cell_type": "markdown",
   "metadata": {},
   "source": [
    "# Correcting Note Lengths"
   ]
  },
  {
   "cell_type": "code",
   "execution_count": null,
   "metadata": {},
   "outputs": [],
   "source": [
    "from mido import MidiFile\n",
    "from tqdm import tqdm\n",
    "import matplotlib.pyplot as plt\n",
    "import miditoolkit\n",
    "import decimal\n",
    "from math import floor\n",
    "from decimal import Decimal as D\n",
    "from collections import namedtuple\n",
    "\n",
    "def continued_fraction(x, k):\n",
    "    cf = []\n",
    "    q = floor(x)\n",
    "    cf.append(q)\n",
    "    x = x - q\n",
    "    i = 0\n",
    "\n",
    "    while x != 0 and i < k:\n",
    "        q = floor(1 / x)\n",
    "        if q > k:\n",
    "            break\n",
    "        cf.append(q)\n",
    "        x = 1 / x - q\n",
    "        i += 1\n",
    "\n",
    "    return cf\n",
    "\n",
    "def rationalApproximations(clist, app):\n",
    "    hn0, kn0 = 0, 1\n",
    "    hn1, kn1 = 1, 0\n",
    "    ran, rad = 0, 0\n",
    "    conlist, finallist = [], []\n",
    "    fraction = namedtuple(\"fraction\", \"ratio, numer, denom\")\n",
    "    for n in clist:\n",
    "        for i in range(1, n + 1):\n",
    "            ran = hn0 + (i * hn1)\n",
    "            rad = kn0 + (i * kn1)\n",
    "            try:\n",
    "                if D.copy_abs(app-D(ran/rad)) < D.copy_abs(app-D(hn1/kn1)):\n",
    "                    conlist.append(fraction(f'{ran}/{rad}', ran, rad))\n",
    "            except:\n",
    "                pass\n",
    "        hn2 = (n * hn1) + hn0\n",
    "        kn2 = (n * kn1) + kn0\n",
    "        conlist.append(fraction(f'{hn2}/{kn2}', hn2, kn2))\n",
    "        hn0, kn0 = hn1, kn1\n",
    "        hn1, kn1 = hn2, kn2\n",
    "    #Change x.ratio to x.denom or x.numer for numerators or denominators   \n",
    "    finallist = [ x.ratio for x in sorted(conlist, key=lambda i: i.denom) ]\n",
    "    return list(dict.fromkeys(finallist))\n",
    "\n",
    "def bestApproximations(length,tps):\n",
    "    value = D(length/tps)\n",
    "    prec = len(str(value))*5\n",
    "    decimal.getcontext().prec = prec\n",
    "    vc = continued_fraction(value, prec)\n",
    "    vc = rationalApproximations(vc, value)\n",
    "    return vc\n",
    "\n",
    "def correctLength(length,tps):\n",
    "\n",
    "    corrections=range(-3,3)\n",
    "    lengths=[]\n",
    "    for correction in corrections:\n",
    "        lengths.append(length+correction)\n",
    "\n",
    "    store=[]\n",
    "\n",
    "    for length in lengths:\n",
    "        approximations=bestApproximations(length,tps)\n",
    "        store.append((length,approximations))\n",
    "    \n",
    "    # return minimum value of store\n",
    "    return min(store, key=lambda x: len(x[1]))[0]  \n",
    "\n",
    "def noteLengths(file):\n",
    "    mid_in= miditoolkit.midi.parser.MidiFile(file)\n",
    "    for channel in mid_in.instruments:\n",
    "        notes = channel.notes\n",
    "        notes = sorted(notes, key=lambda x: x.start)\n",
    "    note_lengths=[]\n",
    "    tps=mid_in.ticks_per_beat\n",
    "    for note in notes:\n",
    "        note_length=(note.end-note.start+1)\n",
    "        note_lengths.append(note_length)\n",
    "    return(note_lengths,tps)\n",
    "\n",
    "def correctNoteLengths(note_lengths,tps):\n",
    "    corrected_dict={}\n",
    "    corrected_lengths=[]\n",
    "    check=False\n",
    "    for note_length in note_lengths:\n",
    "        if note_length not in corrected_dict:\n",
    "            corrected_dict[note_length]=correctLength(note_length,tps)\n",
    "        corrected_length=corrected_dict[note_length]\n",
    "        if corrected_length>0:\n",
    "            corrected_lengths.append(corrected_length/tps)\n",
    "        else:\n",
    "            if not check:\n",
    "                # print(file)\n",
    "                check=True\n",
    "    return corrected_lengths"
   ]
  },
  {
   "cell_type": "markdown",
   "metadata": {},
   "source": [
    "## I/O Utilities"
   ]
  },
  {
   "cell_type": "code",
   "execution_count": null,
   "metadata": {},
   "outputs": [],
   "source": [
    "from statistics import mean\n",
    "import miditoolkit\n",
    "import numpy as np\n",
    "\n",
    "def getNotes(file):\n",
    "    mid_in= miditoolkit.midi.parser.MidiFile(file)\n",
    "\n",
    "    notes=[]\n",
    "    for channel in mid_in.instruments:\n",
    "        notes.extend(channel.notes)\n",
    "    notes.sort(key=lambda x: x.start)\n",
    "    \n",
    "    return(notes)\n",
    "\n",
    "def getNoteLengths(file):\n",
    "    mid_in= miditoolkit.midi.parser.MidiFile(file)\n",
    "\n",
    "    notes=[]\n",
    "    for channel in mid_in.instruments:\n",
    "        notes.extend(channel.notes)\n",
    "    notes.sort(key=lambda x: x.start)\n",
    "    note_lengths=[note.end-note.start+1 for note in notes]\n",
    "    corrected_lengths=correctNoteLengths(note_lengths,mid_in.ticks_per_beat)\n",
    "    # corrected_lengths=np.array(note_lengths)*(1/mid_in.ticks_per_beat)\n",
    "    return(corrected_lengths)\n",
    "\n",
    "def getNoteStarts(file):\n",
    "    mid_in= miditoolkit.midi.parser.MidiFile(file)\n",
    "\n",
    "    notes=[]\n",
    "    for channel in mid_in.instruments:\n",
    "        notes.extend(channel.notes)\n",
    "    notes.sort(key=lambda x: x.start)\n",
    "    note_starts=[note.start for note in notes]\n",
    "    return(note_starts)\n",
    "\n",
    "def scaleLengths(note_lengths,min_beat):\n",
    "    scaled_note_lengths=[int(note_length*min_beat) for note_length in note_lengths]\n",
    "    scaled_note_lengths=[note_length if note_length>0 else -1 for note_length in scaled_note_lengths]\n",
    "    return(scaled_note_lengths)\n",
    "\n",
    "def scalingError(note_lengths,min_beat,norm=0):\n",
    "    scaled_note_lengths=np.array([note_length*min_beat for note_length in note_lengths])\n",
    "    int_scaled_note_lengths=scaled_note_lengths.astype(int)\n",
    "\n",
    "    if norm>0:\n",
    "        errors=np.abs(scaled_note_lengths-int_scaled_note_lengths)\n",
    "        errors=errors**norm\n",
    "    else:\n",
    "        # number of non zero errors\n",
    "        errors=np.array([1 if note_length>0 else 0 for note_length in scaled_note_lengths-int_scaled_note_lengths])\n",
    "        \n",
    "    mean_error=np.mean(errors)\n",
    "    return(mean_error)\n",
    "\n",
    "\n",
    "def rankMinBeats(note_lengths,min_beats,norm=0):\n",
    "    # compare errors for each min_beat and lowest min_beats\n",
    "    errors=[]\n",
    "    for min_beat in min_beats:\n",
    "        errors.append((min_beat,scalingError(note_lengths,min_beat,norm)))\n",
    "    errors=sorted(errors, key=lambda x: x[1])\n",
    "    return(errors[:5])\n",
    "\n"
   ]
  },
  {
   "cell_type": "markdown",
   "metadata": {},
   "source": [
    "## Tokenization"
   ]
  },
  {
   "cell_type": "code",
   "execution_count": null,
   "metadata": {},
   "outputs": [],
   "source": [
    "norm=1\n",
    "min_beats=[8,12,16,24,32,48,64]\n",
    "min_beat=48\n",
    "\n",
    "file=\"Datasets/asap-dataset/Bach/Fugue/bwv_846/midi_score.mid\"\n",
    "\n",
    "\n",
    "notes=getNotes(file)\n",
    "\n",
    "note_lengths=getNoteLengths(file)\n",
    "scaled_note_lengths=scaleLengths(note_lengths,min_beat)\n",
    "\n",
    "note_starts=getNoteStarts(file)\n",
    "scaled_note_starts=scaleLengths(note_starts,min_beat)\n",
    "print(scaled_note_starts[-1])\n"
   ]
  },
  {
   "cell_type": "code",
   "execution_count": null,
   "metadata": {},
   "outputs": [],
   "source": [
    "from miditok import REMI, get_midi_programs\n",
    "from miditoolkit import MidiFile\n",
    "\n",
    "# Our parameters\n",
    "pitch_range = range(21, 109)\n",
    "beat_res = {(0, 4): 8, (4, 12): 4}\n",
    "nb_velocities = 1\n",
    "additional_tokens = {'Chord': False, 'Rest': False, 'Tempo': False, 'Program': False, 'TimeSignature': False}\n",
    "\n",
    "# Creates the tokenizer and loads a MIDI\n",
    "tokenizer = REMI(pitch_range, beat_res, nb_velocities, additional_tokens, mask=True)\n",
    "midi = MidiFile(file)\n",
    "\n",
    "# Converts MIDI to tokens, and back to a MIDI\n",
    "tokens = tokenizer.midi_to_tokens(midi)\n",
    "print(len(tokens))"
   ]
  },
  {
   "cell_type": "code",
   "execution_count": 3,
   "metadata": {},
   "outputs": [
    {
     "name": "stdout",
     "output_type": "stream",
     "text": [
      "(128, 5399)\n",
      "51599\n"
     ]
    }
   ],
   "source": [
    "import pretty_midi as pm\n",
    "import miditoolkit as mt\n",
    "\n",
    "midi_path=\"Store/Score2Melody/Bach/Fugue/bwv_846/Shi05M_score.mid\"\n",
    "\n",
    "midi_data = pm.PrettyMIDI(midi_path)\n",
    "piano_roll = midi_data.get_piano_roll(fs=100) # shape=(pitch, timestep)\n",
    "print(piano_roll.shape)\n",
    "\n",
    "midi_obj=mt.midi.parser.MidiFile(midi_path)\n",
    "\n",
    "notes=[note for note in [instrument.notes for instrument in midi_obj.instruments]]\n",
    "sorted_notes=sorted(notes[0], key=lambda x: x.start)\n",
    "length=sorted_notes[-1].end-sorted_notes[0].start\n",
    "print(length)"
   ]
  },
  {
   "cell_type": "code",
   "execution_count": 1,
   "metadata": {},
   "outputs": [],
   "source": [
    "import torch"
   ]
  },
  {
   "cell_type": "code",
   "execution_count": 2,
   "metadata": {},
   "outputs": [
    {
     "name": "stdout",
     "output_type": "stream",
     "text": [
      "tensor([[ 0,  1,  2,  3,  4],\n",
      "        [ 5,  6,  7,  8,  9],\n",
      "        [10, 11, 12, 13, 14],\n",
      "        [15, 16, 17, 18, 19],\n",
      "        [20, 21, 22, 23, 24]])\n"
     ]
    }
   ],
   "source": [
    "x=torch.arange(25).reshape(5,5)\n",
    "print(x)"
   ]
  },
  {
   "cell_type": "code",
   "execution_count": 5,
   "metadata": {},
   "outputs": [
    {
     "name": "stdout",
     "output_type": "stream",
     "text": [
      "tensor([[ True,  True,  True,  True,  True],\n",
      "        [False,  True,  True,  True,  True],\n",
      "        [False, False,  True,  True,  True],\n",
      "        [False, False, False,  True,  True],\n",
      "        [False, False, False, False,  True]])\n"
     ]
    }
   ],
   "source": [
    "mask=torch.arange(5).view(-1,1)<=torch.arange(5).view(1,-1) # (5,1)<(1,5)\n",
    "print(mask)"
   ]
  },
  {
   "cell_type": "code",
   "execution_count": 7,
   "metadata": {},
   "outputs": [
    {
     "data": {
      "text/plain": [
       "tensor([ 5, 10, 11, 15, 16, 17, 20, 21, 22, 23])"
      ]
     },
     "execution_count": 7,
     "metadata": {},
     "output_type": "execute_result"
    }
   ],
   "source": [
    "x[~mask]"
   ]
  }
 ],
 "metadata": {
  "kernelspec": {
   "display_name": "Python 3.7.6 ('base')",
   "language": "python",
   "name": "python3"
  },
  "language_info": {
   "codemirror_mode": {
    "name": "ipython",
    "version": 3
   },
   "file_extension": ".py",
   "mimetype": "text/x-python",
   "name": "python",
   "nbconvert_exporter": "python",
   "pygments_lexer": "ipython3",
   "version": "3.7.6"
  },
  "orig_nbformat": 4,
  "vscode": {
   "interpreter": {
    "hash": "40d3a090f54c6569ab1632332b64b2c03c39dcf918b08424e98f38b5ae0af88f"
   }
  }
 },
 "nbformat": 4,
 "nbformat_minor": 2
}
