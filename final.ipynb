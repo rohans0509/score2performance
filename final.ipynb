{
 "cells": [
  {
   "cell_type": "code",
   "execution_count": 2,
   "metadata": {},
   "outputs": [],
   "source": [
    "import pretty_midi as pm\n",
    "import matplotlib.pyplot as plt\n",
    "import midi_processing\n",
    "from importlib import reload\n",
    "\n",
    "reload(midi_processing)\n",
    "\n",
    "dat2mid_anna=midi_processing.dat2mid_anna\n",
    "\n",
    "# function to midi image\n",
    "def midi_image(tokens):\n",
    "    # read in midi file\n",
    "    midi_data=dat2mid_anna(tokens+[])\n",
    "    # get piano roll\n",
    "    piano_roll =  midi_data.get_piano_roll(fs=100) # shape=(pitch, timestep)\n",
    "    # plot the piano roll with length of yaxis=xaxis\n",
    "    \n",
    "    plt.imshow(piano_roll, aspect='auto', origin='lower')\n",
    "    plt.show()\n"
   ]
  },
  {
   "cell_type": "code",
   "execution_count": 3,
   "metadata": {},
   "outputs": [
    {
     "name": "stdout",
     "output_type": "stream",
     "text": [
      "Reading data from pickle file...\n",
      "Completed reading\n"
     ]
    }
   ],
   "source": [
    "# read pickle data_file \n",
    "import pickle\n",
    "print(\"Reading data from pickle file...\")\n",
    "with open(\"Store/asap-dataset/train_data.pickle\", 'rb') as f:\n",
    "    data=pickle.load(f)\n",
    "print(\"Completed reading\")"
   ]
  },
  {
   "cell_type": "code",
   "execution_count": 4,
   "metadata": {},
   "outputs": [],
   "source": [
    "from collections import Counter\n",
    "from datasets import Dataset,key_mapping,PAD_IDX,MASK_IDX,tok_mapping\n",
    "import json\n",
    "import random\n",
    "import torch\n",
    "from midi_processing import MidiToken\n",
    "import pickle\n",
    "import pandas as pd\n",
    "import random \n",
    "\n",
    "random.seed(42)\n",
    "\n",
    "class MidiMaskDataset(Dataset):\n",
    "    '''\n",
    "    MIDI sequences used in Music Transformer prepared for BERT-style training.\n",
    "    Data augmentation includes pitch transpose and time stretch.\n",
    "    The tokens are encoded as follows:\n",
    "      0-127 = NOTE_ON\n",
    "    128-255 = NOTE_OFF\n",
    "    256-355 = TIME_SHIFT\n",
    "    356-387 = SET_VELOCITY\n",
    "    388-389 = START/STOP\n",
    "        390 = MASK\n",
    "        391 = PADDING\n",
    "    '''\n",
    "    def __init__(self, data_file, seq_len=512, mask_probs=[0.12, 0.015, 0.015]):\n",
    "        self.seq_len = seq_len\n",
    "        self.mask_probs = mask_probs\n",
    "\n",
    "        self.data_file=data_file\n",
    "        self.data=data\n",
    "\n",
    "        # # read pickle data_file \n",
    "        # print(\"Reading data from pickle file...\")\n",
    "        # with open(data_file, 'rb') as f:\n",
    "        #     self.pairs=pickle.load(f)\n",
    "        # print(\"Completed reading\")\n",
    "        \n",
    "        for performance_filename,pair in self.data.items():\n",
    "            score_token_list=pair[0]\n",
    "            performance_token_list=pair[1]\n",
    "\n",
    "            # insert Start tokens\n",
    "            score_token_list[0].insert(0, MidiToken(\"START\", 0))\n",
    "            performance_token_list[0].insert(0, MidiToken(\"START\", 0))\n",
    "\n",
    "            # insert Stop tokens\n",
    "            score_token_list[-1].append(MidiToken(\"STOP\", 0))\n",
    "            performance_token_list[-1].append(MidiToken(\"STOP\", 0))\n",
    "\n",
    "            # Update self.data\n",
    "            self.data[performance_filename]=(score_token_list,performance_token_list)\n",
    "\n",
    "        self.num_songs = len(self.data)\n",
    "        self.beats = torch.tensor([len(song) for song in self.data.values()])\n",
    "        self.files=list(self.data.keys())\n",
    "\n",
    "    def augment(self, seq):\n",
    "        # data augmentation: pitch transposition\n",
    "        pitch_change = random.randint(-3,3)\n",
    "        seq = [MidiToken(tok.type, tok.value + pitch_change) if tok.type in (\"NOTE_ON\", \"NOTE_OFF\") else tok for tok in seq]\n",
    "        # data augmentation: time stretch\n",
    "        time_stretch = random.choice([0.95, 0.975, 1.0, 1.025, 1.05])\n",
    "        seq = [MidiToken(tok.type, int(min(max((((time_stretch * tok.value) + 5) // 10) * 10, 10), 1000))) if tok.type == \"TIME_SHIFT\" else tok for tok in seq]\n",
    "        return seq\n",
    "\n",
    "    def end_beat(self,pair, start_beat):\n",
    "\n",
    "        score_token_list,performance_token_list=pair\n",
    "\n",
    "        # convert to lists\n",
    "        score_token_list=list(score_token_list)\n",
    "        performance_token_list=list(performance_token_list)\n",
    "\n",
    "        assert len(score_token_list)==len(performance_token_list)\n",
    "\n",
    "        # try using performance_token_list and find the end beat where joined token list length exceeds seq_len\n",
    "        length_performance_section=len(performance_token_list[start_beat])\n",
    "        length_score_section=len(score_token_list[start_beat])\n",
    "\n",
    "        end_beat=start_beat\n",
    "\n",
    "        # return the end_beat such that none of the lengths of the performance and score sections are greater than seq_len\n",
    "        while max(length_performance_section,length_score_section)<self.seq_len:\n",
    "            end_beat+=1\n",
    "            length_performance_section+=len(performance_token_list[end_beat])\n",
    "            length_score_section+=len(score_token_list[end_beat])\n",
    "\n",
    "            if end_beat==len(performance_token_list)-1:\n",
    "                break\n",
    "            \n",
    "            \n",
    "        return(end_beat-1)\n",
    "            \n",
    "\n",
    "    def get_batch(self, batch_size,show=False): \n",
    "        # chooses what songs we're going to use in this batch\n",
    "        song_indices = torch.multinomial(torch.ones(self.num_songs), batch_size)\n",
    "\n",
    "        # for each song in the batch, choose a random starting beat less than the length of the song\n",
    "        start_beats = [random.randint(0, int(0.75*self.beats[song_index])) for song_index in song_indices]\n",
    "\n",
    "        # iterate over song index pairs and construct end_beats\n",
    "        end_beats = list(range(batch_size))\n",
    "\n",
    "        for i in range(batch_size):\n",
    "            file=self.files[song_indices[i]]\n",
    "            pair=self.data[file]\n",
    "            start_beat=start_beats[i]\n",
    "\n",
    "            end_beats[i]=self.end_beat(pair,start_beat)\n",
    "\n",
    "        # Get score and performance tokens using start_beats and end_beats\n",
    "        score_tokens = []\n",
    "        performance_tokens = []\n",
    "        differences=[]\n",
    "        for i in range(batch_size):\n",
    "            # get sections\n",
    "            file=self.files[song_indices[i]]\n",
    "            score,performance=self.data[file]\n",
    "\n",
    "\n",
    "            score_section=score[start_beats[i]:end_beats[i]+1]\n",
    "            performance_section=performance[start_beats[i]:end_beats[i]+1]\n",
    "\n",
    "           # join all sublists of score_section and performance_section\n",
    "            score_section=sum(score_section,[])\n",
    "            performance_section=sum(performance_section,[])\n",
    "\n",
    "            # pad sections to seq_len if necessary\n",
    "            if len(score_section)<self.seq_len:\n",
    "                score_section=score_section+[MidiToken(\"PADDING\",0)]*(self.seq_len-len(score_section))\n",
    "\n",
    "            if len(performance_section)<self.seq_len:\n",
    "                performance_section=performance_section+[MidiToken(\"PADDING\",0)]*(self.seq_len-len(performance_section))\n",
    "\n",
    "            # compare score and performance sections\n",
    "            diff=self.compare(score_section,performance_section)\n",
    "            differences.append(diff)\n",
    "            \n",
    "            if show:\n",
    "                # plot score and performance sections\n",
    "                midi_image(score_section)\n",
    "                midi_image(performance_section)\n",
    "\n",
    "                # save midi files\n",
    "                score_midi=dat2mid_anna(score_section+[])\n",
    "                performance_midi=dat2mid_anna(performance_section+[])\n",
    "                score_midi.write('score_midi.mid')\n",
    "                performance_midi.write('performance_midi.mid')\n",
    "\n",
    "            \n",
    "            # Convert tokens to integers using key_mapping\n",
    "            score_section=[key_mapping(tok) for tok in score_section]\n",
    "            performance_section=[key_mapping(tok) for tok in performance_section]\n",
    "\n",
    "\n",
    "            # Add to score_tokens and performance_tokens\n",
    "            score_tokens.append(score_section)\n",
    "            performance_tokens.append(performance_section)\n",
    "\n",
    "        # Score tensor of shape (batch_size, seq_len)\n",
    "        score_tensor = torch.tensor(score_tokens)\n",
    "        # Performance tensor of shape (batch_size, seq_len)\n",
    "        performance_tensor = torch.tensor(performance_tokens)\n",
    "        # Difference tensor of shape (batch_size,1)\n",
    "        difference_tensor = torch.tensor(differences)\n",
    "\n",
    "        # Construct Input\n",
    "        inp = score_tensor\n",
    "        \n",
    "        # Construct Output\n",
    "        tgt = performance_tensor\n",
    "\n",
    "        # assert that shape of inp and tgt are (batch_size, seq_len)\n",
    "        assert inp.shape == (batch_size, self.seq_len)\n",
    "        assert tgt.shape == (batch_size, self.seq_len)\n",
    "\n",
    "        return {\n",
    "            \"inp\": inp,\n",
    "            \"tgt\": tgt,\n",
    "            \"diff\": difference_tensor\n",
    "        }\n",
    "    def compare(self,score_section,performance_section):\n",
    "        # loop through score_section and make a list of midi tokens of type NOTE_ON\n",
    "        score_note_on_list=[]\n",
    "        for tok in score_section:\n",
    "            if tok.type==\"NOTE_ON\":\n",
    "                score_note_on_list.append(tok.value)\n",
    "        # loop through performance_section and make a list of midi tokens of type NOTE_ON\n",
    "        performance_note_on_list=[]\n",
    "        for tok in performance_section:\n",
    "            if tok.type==\"NOTE_ON\":\n",
    "                performance_note_on_list.append(tok.value)\n",
    "\n",
    "        # sort both lists\n",
    "        score_note_on_list.sort()\n",
    "        performance_note_on_list.sort()\n",
    "\n",
    "        # get counts of elements in both lists\n",
    "        score_note_on_counts=Counter(score_note_on_list)\n",
    "        performance_note_on_counts=Counter(performance_note_on_list)\n",
    "\n",
    "        # get the difference between the two lists\n",
    "        score_note_on_diff=score_note_on_counts-performance_note_on_counts\n",
    "\n",
    "        # add all counts\n",
    "        score_note_on_diff_sum=sum(score_note_on_diff.values())\n",
    "        \n",
    "        return score_note_on_diff_sum,score_note_on_diff_sum/len(score_section)*100\n",
    "        \n",
    "        \n"
   ]
  },
  {
   "cell_type": "code",
   "execution_count": 7,
   "metadata": {},
   "outputs": [
    {
     "data": {
      "image/png": "[encoded data removed]",
      "text/plain": [
       "<Figure size 432x288 with 1 Axes>"
      ]
     },
     "metadata": {
      "needs_background": "light"
     },
     "output_type": "display_data"
    },
    {
     "data": {
      "image/png": "[encoded data removed]",
      "text/plain": [
       "<Figure size 432x288 with 1 Axes>"
      ]
     },
     "metadata": {
      "needs_background": "light"
     },
     "output_type": "display_data"
    },
    {
     "data": {
      "image/png": "[encoded data removed]",
      "text/plain": [
       "<Figure size 432x288 with 1 Axes>"
      ]
     },
     "metadata": {
      "needs_background": "light"
     },
     "output_type": "display_data"
    },
    {
     "data": {
      "image/png": "[encoded data removed]",
      "text/plain": [
       "<Figure size 432x288 with 1 Axes>"
      ]
     },
     "metadata": {
      "needs_background": "light"
     },
     "output_type": "display_data"
    },
    {
     "name": "stdout",
     "output_type": "stream",
     "text": [
      "tensor([[8.0000, 1.5625],\n",
      "        [2.0000, 0.3906]])\n"
     ]
    }
   ],
   "source": [
    "data_file=\"Store/asap-dataset/train_data.pickle\"\n",
    "dataset = MidiMaskDataset(data_file)\n",
    "batch = dataset.get_batch(2,show=True)\n",
    "# print diffrence between score and performance\n",
    "print(batch[\"diff\"])"
   ]
  }
 ],
 "metadata": {
  "kernelspec": {
   "display_name": "Python 3.7.6 ('base')",
   "language": "python",
   "name": "python3"
  },
  "language_info": {
   "codemirror_mode": {
    "name": "ipython",
    "version": 3
   },
   "file_extension": ".py",
   "mimetype": "text/x-python",
   "name": "python",
   "nbconvert_exporter": "python",
   "pygments_lexer": "ipython3",
   "version": "3.7.6"
  },
  "orig_nbformat": 4,
  "vscode": {
   "interpreter": {
    "hash": "40d3a090f54c6569ab1632332b64b2c03c39dcf918b08424e98f38b5ae0af88f"
   }
  }
 },
 "nbformat": 4,
 "nbformat_minor": 2
}
