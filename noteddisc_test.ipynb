{
 "cells": [
  {
   "cell_type": "code",
   "execution_count": 87,
   "metadata": {},
   "outputs": [],
   "source": [
    "import pretty_midi as pm\n",
    "from datasets import MidiToken\n",
    "from utils import getNotes\n",
    "import miditoolkit as mtk\n",
    "\n",
    "# check pretty midi piano roll for instrument 1\n",
    "def melodyRep(midi):\n",
    "    '''\n",
    "    Given a MIDI file, convert into a sequence of MIDI events. If note is in melody_notes have a NOTE_ON_MELODY/NOTE_OFF_MELODY token\n",
    "\n",
    "        Parameters:\n",
    "            midi_path (str/Path): Input MIDI filename\n",
    "        \n",
    "        Returns:\n",
    "            arr (list): List of MidiToken event objects\n",
    "    '''\n",
    "    arr = []\n",
    "    if not isinstance(midi, str):\n",
    "        midi_data = midi\n",
    "    else:\n",
    "        midi_path = midi\n",
    "        midi_data = pm.PrettyMIDI(midi_path)\n",
    "        \n",
    "    timestep=1000\n",
    "    x = midi_data.get_piano_roll(fs=timestep) # shape=(pitch, length/timestep)\n",
    "    melody_pr=midi_data.instruments[0].get_piano_roll(fs=timestep)\n",
    "\n",
    "    # set non-zero velocities to 80\n",
    "    x[x>0]=80\n",
    "    melody_pr[melody_pr>0]=80\n",
    "\n",
    "\n",
    "    # assert melody_pr.shape==x.shape\n",
    "    \n",
    "    active_notes = [] # unended NOTE_ON pitches\n",
    "    time_acc = -10 # track time passed (ms) since last TIME_SHIFT (start at -10 to offset first increment)\n",
    "    curr_vel = 0 # last SET_VELOCITY value \n",
    "\n",
    "    num_melody=0\n",
    "    num_other=0\n",
    "    # Iterate over timesteps\n",
    "    for t in range(x.shape[1]):\n",
    "        time_acc += 10\n",
    "        for p in range(x.shape[0]):\n",
    "            # When a note starts\n",
    "            if x[p,t] and p not in active_notes:\n",
    "                active_notes.append(p)\n",
    "                if time_acc:\n",
    "                    arr.append(MidiToken(\"TIME_SHIFT\", time_acc))\n",
    "                    time_acc = 0\n",
    "                if (x[p,t]//4)*4 != curr_vel:\n",
    "                    curr_vel = (x[p,t]//4)*4\n",
    "                    arr.append(MidiToken(\"SET_VELOCITY\", curr_vel))\n",
    "                if t<melody_pr.shape[1] and melody_pr[p,t]:\n",
    "                    arr.append(MidiToken(\"NOTE_ON_MELODY\", p))\n",
    "                    num_melody+=1\n",
    "                else:\n",
    "                    arr.append(MidiToken(\"NOTE_ON\", p))\n",
    "                    num_other+=1\n",
    "            # When a note ends\n",
    "            elif not x[p,t] and p in active_notes:\n",
    "                if time_acc:\n",
    "                    arr.append(MidiToken(\"TIME_SHIFT\", time_acc))\n",
    "                    time_acc = 0\n",
    "                active_notes.remove(p)\n",
    "                arr.append(MidiToken(\"NOTE_OFF\", p))\n",
    "        if time_acc == 1000:\n",
    "            arr.append(MidiToken(\"TIME_SHIFT\", 1000))\n",
    "            time_acc = 0\n",
    "    # Write final NOTE_OFFs and NOTE_OFF_MELODYs\n",
    "    if active_notes:\n",
    "        time_acc += 10\n",
    "        arr.append(MidiToken(\"TIME_SHIFT\", time_acc))\n",
    "        for p in active_notes:\n",
    "            if p != -1:\n",
    "                arr.append(MidiToken(\"NOTE_OFF\", p))\n",
    "    print(f\"Melody: {num_melody}, Other: {num_other}\")\n",
    "    return arr"
   ]
  },
  {
   "cell_type": "code",
   "execution_count": 88,
   "metadata": {},
   "outputs": [],
   "source": [
    "midi_path=\"/Users/rohansharma/Desktop/Projects/Intern/score2performance/Sample_Data/asap-dataset/Bach/Fugue/bwv_848/midi_score.mid\""
   ]
  },
  {
   "cell_type": "code",
   "execution_count": 89,
   "metadata": {},
   "outputs": [],
   "source": [
    "# read midi file and keep first 10 notes\n",
    "midi_obj = mtk.midi.parser.MidiFile(midi_path)\n",
    "melody_notes=getNotes(midi_obj, 0)\n",
    "other_notes=getNotes(midi_obj, 1)\n",
    "\n",
    "# keep first 5 melody notes and first 5 other notes\n",
    "melody_notes=melody_notes[:5]\n",
    "other_notes=other_notes[:10]\n",
    "\n",
    "# create new midi object\n",
    "new_midi_obj = mtk.midi.parser.MidiFile()\n",
    "new_midi_obj.ticks_per_beat = midi_obj.ticks_per_beat\n",
    "new_midi_obj.time_signature_changes = midi_obj.time_signature_changes\n",
    "\n",
    "# create new instrument and add melody notes\n",
    "melody_instr = mtk.midi.containers.Instrument(0, is_drum=False, name='melody')\n",
    "melody_instr.notes = melody_notes\n",
    "new_midi_obj.instruments.append(melody_instr)\n",
    "\n",
    "# create new instrument and add other notes\n",
    "other_instr = mtk.midi.containers.Instrument(1, is_drum=False, name='other')\n",
    "other_instr.notes = other_notes\n",
    "new_midi_obj.instruments.append(other_instr)\n",
    "\n",
    "# save new midi file\n",
    "new_midi_obj.dump(\"test.mid\")"
   ]
  },
  {
   "cell_type": "code",
   "execution_count": 90,
   "metadata": {},
   "outputs": [
    {
     "name": "stdout",
     "output_type": "stream",
     "text": [
      "Melody: 402, Other: 319\n"
     ]
    }
   ],
   "source": [
    "test_file=\"/Users/rohansharma/Desktop/Projects/Intern/score2performance/Store/Score2Melody/Bach/Fugue/bwv_846/Shi05M_score.mid\"\n",
    "out=melodyRep(test_file)\n",
    "# retain note_on_melody and note_on\n",
    "out=[x for x in out if x.type in [\"NOTE_ON_MELODY\", \"NOTE_ON\"]]\n",
    "\n",
    "prettymidi_other_notes = [token.value for token in out if token.type == \"NOTE_ON\"]\n",
    "prettymidi_melody_notes = [token.value for token in out if token.type == \"NOTE_ON_MELODY\"] "
   ]
  },
  {
   "cell_type": "code",
   "execution_count": 91,
   "metadata": {},
   "outputs": [
    {
     "name": "stdout",
     "output_type": "stream",
     "text": [
      "Prettymidi melody notes:  [60, 62, 64, 65, 67, 65, 64, 69, 62, 67, 69, 67, 65, 64, 65, 67, 62, 69, 62, 71, 59, 72, 66, 74, 72, 67, 76, 69, 74, 64, 66, 76, 74, 72, 71, 55, 71, 57, 71, 59, 74, 60, 74, 76, 78, 60, 79, 64, 72, 69, 64, 74, 72, 71, 69, 67, 65, 48, 67, 50, 64, 52, 67, 53, 67, 69, 71, 53, 72, 67, 57, 64, 50, 57, 62, 60, 71, 57, 55, 53, 52, 53, 72, 50, 74, 50, 55, 47, 57, 59, 79, 77, 60, 81, 62, 60, 74, 57, 79, 55, 57, 81, 62, 77, 76, 64, 81, 60, 59, 83, 81, 79, 77, 59, 67, 62, 69, 59, 71, 55, 76, 59, 60, 74, 72, 79, 62, 76, 69, 57, 74, 78, 76, 74, 72, 79, 77, 43, 74, 45, 74, 62, 71, 69, 72, 71, 69, 48, 67, 52, 69, 67, 66, 72, 71, 69, 68, 52, 76, 48, 74, 71, 52, 68, 54, 68, 56, 71, 57, 66, 69, 59, 57, 56, 64, 60, 68, 54, 68, 59, 71, 76, 60, 59, 57, 71, 57, 71, 71, 72, 71, 72, 72, 56, 72, 69, 69, 60, 62, 55, 57, 59, 67, 65, 60, 69, 62, 60, 59, 43, 57, 69, 47, 65, 48, 67, 50, 48, 69, 71, 72, 66, 74, 72, 67, 52, 72, 48, 74, 76, 77, 71, 79, 77, 76, 57, 74, 72, 59, 61, 62, 81, 79, 77, 62, 60, 65, 72, 74, 82, 57, 55, 81, 65, 79, 77, 79, 77, 79, 76, 77, 79, 79, 81, 79, 77, 79, 81, 73, 57, 79, 76, 77, 76, 77, 77, 64, 77, 74, 66, 67, 64, 62, 60, 66, 71, 69, 59, 52, 72, 48, 66, 45, 71, 42, 40, 72, 52, 69, 67, 66, 67, 62, 69, 62, 71, 59, 72, 57, 74, 72, 71, 69, 59, 65, 60, 67, 62, 69, 64, 76, 74, 65, 71, 72, 67, 76, 60, 79, 65, 79, 77, 76, 74, 72, 67, 57, 55, 53, 52, 50, 74, 47, 67, 50, 72, 62, 71, 72, 69, 50, 52, 53, 65, 55, 53, 67, 72, 70, 76, 72, 70, 77, 57, 74, 53, 67, 81, 79, 77, 76, 74, 76, 74, 72, 70, 69, 67, 65, 59, 60, 57, 62, 67, 69, 71, 72, 74, 76, 77, 67, 69, 72, 74, 76, 77, 79, 81, 77, 74, 83, 76]\n",
      "Miditoolkit melody notes: [60, 62, 64, 65, 67, 65, 64, 69, 62, 67, 69, 67, 65, 64, 65, 62, 67, 62, 69, 59, 71, 72, 74, 66, 72, 76, 67, 69, 64, 74, 66, 76, 74, 72, 71, 67, 55, 71, 57, 71, 59, 74, 74, 60, 76, 60, 78, 79, 64, 72, 64, 69, 74, 72, 71, 69, 65, 67, 48, 67, 50, 64, 52, 67, 67, 53, 69, 53, 71, 67, 57, 64, 50, 57, 60, 62, 72, 57, 55, 53, 71, 52, 53, 50, 72, 50, 74, 47, 55, 57, 79, 59, 77, 60, 62, 60, 81, 57, 74, 55, 79, 57, 81, 77, 62, 64, 76, 60, 81, 59, 83, 81, 79, 59, 62, 67, 59, 69, 55, 71, 77, 59, 60, 76, 74, 72, 62, 76, 57, 69, 79, 74, 76, 74, 72, 78, 79, 77, 43, 74, 45, 74, 62, 71, 69, 72, 71, 48, 69, 67, 69, 52, 67, 66, 72, 69, 71, 52, 68, 48, 76, 71, 74, 68, 52, 54, 68, 56, 71, 66, 57, 69, 59, 57, 56, 64, 60, 68, 54, 68, 71, 59, 60, 76, 59, 57, 71, 71, 71, 71, 72, 72, 71, 72, 71, 72, 57, 71, 72, 71, 56, 69, 60, 69, 62, 55, 57, 67, 59, 65, 60, 62, 60, 69, 59, 43, 57, 69, 47, 65, 48, 50, 48, 67, 69, 71, 72, 74, 66, 72, 52, 67, 48, 72, 74, 76, 77, 79, 71, 77, 76, 74, 57, 72, 59, 61, 81, 62, 79, 62, 77, 60, 76, 65, 72, 74, 57, 55, 82, 65, 81, 79, 77, 79, 77, 79, 76, 77, 79, 79, 79, 81, 81, 79, 79, 77, 79, 81, 73, 57, 79, 76, 76, 77, 77, 76, 77, 76, 77, 76, 77, 76, 64, 74, 66, 64, 62, 67, 60, 71, 66, 69, 52, 59, 48, 72, 66, 45, 42, 71, 40, 72, 52, 69, 67, 66, 62, 67, 62, 69, 59, 71, 57, 72, 74, 72, 69, 71, 59, 65, 60, 67, 62, 69, 76, 64, 74, 65, 71, 72, 67, 76, 60, 79, 79, 65, 77, 76, 74, 72, 57, 55, 53, 52, 50, 67, 47, 74, 50, 67, 72, 62, 71, 72, 50, 69, 52, 53, 55, 53, 65, 67, 72, 70, 72, 70, 76, 57, 53, 74, 77, 67, 81, 79, 77, 76, 74, 76, 74, 70, 69, 67, 65, 59, 60, 57, 72, 67, 69, 71, 72, 74, 76, 62, 67, 77, 72, 74, 76, 77, 69, 79, 77, 81, 74, 83, 76]\n",
      "Prettymidi other notes:   [64, 60, 60, 57, 71, 66, 62, 67, 65, 69, 64, 72, 62, 72, 76, 62, 59, 67, 71, 57, 62, 65, 65, 64, 62, 60, 59, 60, 64, 62, 65, 58, 65, 57, 60, 69, 62, 65, 55, 52, 60, 65, 65, 55, 59, 62, 67, 55, 52, 48, 48, 76, 45, 77, 50, 57, 76, 54, 55, 59, 58, 64, 49, 50, 79, 57, 62, 52, 64, 57, 60, 60, 57, 60, 72, 57, 78, 64, 71, 60, 60, 59, 62, 60, 59, 57, 55, 71, 76, 72, 47, 72, 48, 64, 66, 50, 47, 45, 50, 64, 50, 69, 47, 69, 72, 71, 66, 69, 50, 65, 69, 48, 64, 72, 53, 62, 68, 71, 52, 66, 69, 71, 69, 72, 50, 69, 77, 68, 66, 52, 68, 74, 69, 53, 56, 52, 72, 50, 52, 72, 45, 64, 65, 64, 62, 64, 67, 45, 62, 67, 64, 55, 64, 47, 62, 66, 52, 67, 45, 60, 50, 57, 64, 71, 50, 69, 47, 62, 46, 67, 45, 69, 43, 45, 72, 54, 81, 55, 71, 74, 52, 76, 79, 50, 69, 74, 64, 52, 76, 53, 74, 81, 55, 59, 71, 64, 79, 53, 73, 58, 64, 74, 62, 52, 76, 57, 73, 74, 58, 57, 76, 81, 55, 53, 69, 52, 53, 74, 50, 55, 59, 77, 57, 61, 62, 74, 69, 67, 50, 64, 47, 43, 64, 62, 71, 54, 55, 64, 64, 57, 60, 55, 54, 57, 62, 50, 54, 67, 76, 64, 69, 65, 74, 67, 72, 62, 69, 70, 74, 57, 72, 77, 81, 59, 74, 67, 60, 65, 67, 64, 53, 62, 71, 72, 48, 62, 65, 52, 55, 64, 43, 48, 64, 71, 67, 70, 69, 74, 52, 57, 69, 50, 74, 55, 69, 55, 52, 50, 52, 72, 53, 55, 57, 77, 58, 72, 55, 70, 57, 69, 52, 53, 55, 57, 67, 65, 64, 79, 84]\n",
      "Miditoolkit other notes:  [60, 62, 64, 65, 67, 64, 69, 62, 67, 69, 65, 64, 64, 64, 62, 67, 60, 60, 62, 60, 60, 59, 71, 57, 57, 72, 74, 66, 72, 71, 71, 76, 69, 66, 66, 64, 74, 66, 76, 74, 62, 62, 72, 71, 67, 67, 67, 69, 69, 65, 65, 71, 72, 72, 64, 64, 71, 72, 72, 62, 62, 74, 76, 76, 74, 76, 62, 78, 59, 79, 71, 71, 57, 67, 67, 72, 65, 65, 64, 69, 62, 74, 64, 72, 62, 71, 60, 69, 65, 65, 59, 65, 67, 64, 64, 67, 65, 65, 60, 64, 65, 65, 58, 62, 62, 67, 69, 69, 57, 60, 60, 67, 69, 55, 62, 65, 65, 71, 52, 67, 65, 65, 60, 64, 65, 65, 59, 62, 55, 62, 71, 52, 55, 67, 67, 72, 48, 74, 48, 76, 76, 45, 77, 77, 79, 50, 77, 57, 76, 76, 54, 81, 55, 59, 74, 58, 64, 79, 49, 81, 79, 79, 50, 77, 62, 57, 81, 83, 81, 52, 79, 57, 60, 64, 67, 60, 69, 57, 71, 60, 72, 72, 76, 74, 57, 72, 78, 78, 64, 71, 71, 60, 60, 59, 62, 74, 60, 76, 59, 74, 57, 72, 79, 71, 71, 77, 76, 76, 55, 74, 72, 72, 74, 72, 72, 47, 62, 71, 69, 64, 64, 72, 48, 71, 50, 66, 66, 69, 47, 67, 69, 67, 45, 66, 72, 69, 71, 50, 64, 64, 68, 50, 76, 69, 69, 47, 71, 74, 69, 69, 72, 72, 68, 71, 71, 69, 66, 66, 68, 69, 69, 50, 65, 65, 71, 72, 72, 48, 64, 64, 66, 68, 68, 62, 62, 53, 64, 71, 71, 66, 66, 69, 69, 68, 71, 71, 69, 52, 68, 72, 72, 69, 69, 71, 77, 77, 68, 68, 50, 66, 66, 76, 68, 68, 52, 69, 69, 53, 56, 71, 74, 74, 52, 72, 72, 50, 71, 72, 72, 71, 72, 72, 72, 71, 52, 69, 45, 60, 62, 64, 64, 65, 65, 67, 64, 64, 69, 62, 62, 64, 67, 67, 45, 69, 67, 67, 65, 62, 64, 64, 55, 64, 64, 67, 47, 66, 66, 69, 52, 62, 71, 45, 60, 67, 67, 72, 74, 57, 66, 72, 50, 71, 71, 50, 64, 72, 47, 62, 69, 69, 74, 46, 67, 67, 76, 45, 69, 69, 77, 79, 43, 71, 77, 45, 76, 72, 72, 74, 54, 72, 81, 81, 55, 71, 71, 74, 74, 52, 76, 76, 79, 79, 69, 69, 81, 79, 64, 50, 77, 74, 74, 76, 76, 52, 76, 74, 74, 53, 72, 81, 81, 59, 71, 71, 74, 55, 79, 79, 82, 64, 53, 73, 73, 81, 64, 79, 58, 62, 74, 74, 77, 79, 52, 76, 76, 77, 79, 73, 73, 76, 57, 77, 58, 74, 74, 79, 81, 81, 81, 79, 57, 77, 55, 76, 76, 79, 53, 81, 52, 69, 69, 73, 53, 74, 74, 50, 79, 77, 77, 76, 77, 76, 77, 55, 59, 76, 57, 61, 64, 74, 66, 74, 62, 67, 69, 69, 71, 69, 67, 67, 50, 72, 47, 64, 66, 66, 43, 64, 62, 71, 72, 71, 71, 69, 67, 54, 66, 64, 64, 62, 67, 55, 69, 57, 60, 55, 64, 64, 71, 57, 54, 72, 74, 50, 54, 72, 62, 62, 69, 71, 67, 67, 65, 76, 76, 64, 64, 67, 69, 69, 65, 65, 69, 74, 74, 76, 74, 72, 72, 67, 67, 71, 62, 69, 69, 72, 74, 74, 70, 70, 76, 77, 77, 79, 81, 81, 57, 72, 72, 79, 77, 59, 67, 74, 74, 76, 65, 74, 60, 64, 67, 67, 72, 53, 62, 71, 71, 72, 72, 48, 74, 62, 65, 65, 52, 55, 64, 64, 72, 43, 62, 71, 64, 64, 48, 69, 71, 71, 70, 70, 67, 67, 69, 69, 65, 52, 67, 74, 74, 57, 69, 69, 72, 50, 74, 74, 70, 72, 70, 76, 55, 69, 69, 55, 74, 52, 50, 67, 81, 52, 79, 53, 77, 55, 72, 72, 76, 57, 74, 77, 77, 58, 72, 72, 76, 55, 70, 70, 74, 57, 69, 69, 52, 70, 53, 69, 55, 67, 57, 65, 67, 67, 65, 65, 64, 64, 67, 69, 71, 72, 76, 67, 77, 72, 74, 76, 77, 79, 77, 81, 74, 79, 84]\n"
     ]
    }
   ],
   "source": [
    "melody_notes=getNotes(test_file, 0)\n",
    "other_notes=getNotes(test_file, 1)\n",
    "\n",
    "\n",
    "mtk_melody_notes=[x.pitch for x in melody_notes]\n",
    "\n",
    "mtk_other_notes=[x.pitch for x in other_notes]\n",
    "\n",
    "print(\"Prettymidi melody notes: \", prettymidi_melody_notes)\n",
    "print(\"Miditoolkit melody notes:\", mtk_melody_notes)\n",
    "\n",
    "print(\"Prettymidi other notes:  \", prettymidi_other_notes)\n",
    "print(\"Miditoolkit other notes: \", mtk_other_notes)"
   ]
  },
  {
   "cell_type": "code",
   "execution_count": 92,
   "metadata": {},
   "outputs": [
    {
     "name": "stdout",
     "output_type": "stream",
     "text": [
      "Prettymidi melody notes:  402\n",
      "Miditoolkit melody notes: 417\n",
      "Prettymidi other notes:   319\n",
      "Miditoolkit other notes:  713\n"
     ]
    }
   ],
   "source": [
    "# print lengths \n",
    "print(\"Prettymidi melody notes: \", len(prettymidi_melody_notes))\n",
    "print(\"Miditoolkit melody notes:\", len(mtk_melody_notes))\n",
    "\n",
    "print(\"Prettymidi other notes:  \", len(prettymidi_other_notes))\n",
    "print(\"Miditoolkit other notes: \", len(mtk_other_notes))"
   ]
  }
 ],
 "metadata": {
  "kernelspec": {
   "display_name": "Python 3.7.6 ('base')",
   "language": "python",
   "name": "python3"
  },
  "language_info": {
   "codemirror_mode": {
    "name": "ipython",
    "version": 3
   },
   "file_extension": ".py",
   "mimetype": "text/x-python",
   "name": "python",
   "nbconvert_exporter": "python",
   "pygments_lexer": "ipython3",
   "version": "3.7.6"
  },
  "orig_nbformat": 4,
  "vscode": {
   "interpreter": {
    "hash": "40d3a090f54c6569ab1632332b64b2c03c39dcf918b08424e98f38b5ae0af88f"
   }
  }
 },
 "nbformat": 4,
 "nbformat_minor": 2
}
